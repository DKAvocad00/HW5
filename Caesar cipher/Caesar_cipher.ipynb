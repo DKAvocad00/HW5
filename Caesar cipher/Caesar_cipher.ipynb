{
 "cells": [
  {
   "cell_type": "code",
   "execution_count": 77,
   "id": "initial_id",
   "metadata": {
    "collapsed": true,
    "ExecuteTime": {
     "end_time": "2023-08-26T08:25:35.553763793Z",
     "start_time": "2023-08-26T08:25:35.370353108Z"
    }
   },
   "outputs": [
    {
     "name": "stdout",
     "output_type": "stream",
     "text": [
      "cuda\n"
     ]
    }
   ],
   "source": [
    "#file preprocessing\n",
    "from io import open\n",
    "import unicodedata\n",
    "import re\n",
    "from sklearn.model_selection import train_test_split\n",
    "\n",
    "#creating model\n",
    "import random\n",
    "import torch\n",
    "import torch.nn as nn\n",
    "import copy\n",
    "import time\n",
    "\n",
    "#score calculating\n",
    "from nltk.translate.bleu_score import sentence_bleu\n",
    "\n",
    "#warnings\n",
    "import warnings\n",
    "\n",
    "#default settings\n",
    "warnings.filterwarnings(\"ignore\")\n",
    "%matplotlib inline\n",
    "device = torch.device(\"cuda\" if torch.cuda.is_available() else \"cpu\")\n",
    "print(device)"
   ]
  },
  {
   "cell_type": "code",
   "execution_count": 78,
   "outputs": [],
   "source": [
    "DATA_DIR = 'data/eng-nld/eng-nld.txt'\n",
    "RANDOM_STATE = 39\n",
    "HIDDEN_SIZE = 40\n",
    "MAX_LENGTH = 50\n",
    "CHARLIST = list('abcdefghijklmnopqrstuvwxyz.?! ') \n",
    "INDEX2CHAR =['none'] + [c for c in CHARLIST]\n",
    "CHAR2INDEX = {w: i for i, w in enumerate(INDEX2CHAR)}"
   ],
   "metadata": {
    "collapsed": false,
    "ExecuteTime": {
     "end_time": "2023-08-26T08:25:35.554034848Z",
     "start_time": "2023-08-26T08:25:35.412878999Z"
    }
   },
   "id": "bdebb74801058a59"
  },
  {
   "cell_type": "code",
   "execution_count": 79,
   "outputs": [],
   "source": [
    "def caesarCipher(text, k = 6):\n",
    "    cipher_text = copy.deepcopy(text)\n",
    "    for i, sentence in enumerate(cipher_text):\n",
    "        for j, letter in enumerate(sentence):\n",
    "            cipher_text[i][j] = INDEX2CHAR[(CHAR2INDEX.get(letter,CHAR2INDEX['none']) + k) % len(INDEX2CHAR)]\n",
    "\n",
    "    return cipher_text, text"
   ],
   "metadata": {
    "collapsed": false,
    "ExecuteTime": {
     "end_time": "2023-08-26T08:25:35.554194646Z",
     "start_time": "2023-08-26T08:25:35.413073927Z"
    }
   },
   "id": "f4e9b3b1d6f5daa5"
  },
  {
   "cell_type": "code",
   "execution_count": 80,
   "outputs": [],
   "source": [
    "def unicodeToAscii(sentence):\n",
    "    return ''.join(\n",
    "        c for c in unicodedata.normalize('NFD', sentence)\n",
    "        if unicodedata.category(c) != 'Mn'\n",
    "    )\n",
    "\n",
    "def cleanText(sentence):\n",
    "    sentence = unicodeToAscii(sentence.lower().strip()) \n",
    "    sentence = re.sub(r\"([.!?])\", r\" \\1\", sentence)\n",
    "    sentence = re.sub(r\"[^a-zA-Z.!?]+\", r\" \", sentence)\n",
    "    return sentence"
   ],
   "metadata": {
    "collapsed": false,
    "ExecuteTime": {
     "end_time": "2023-08-26T08:25:35.554315262Z",
     "start_time": "2023-08-26T08:25:35.413188257Z"
    }
   },
   "id": "d29b40f7c71db0d3"
  },
  {
   "cell_type": "code",
   "execution_count": 81,
   "outputs": [],
   "source": [
    "def readLangs():\n",
    "    print(\"Reading lines...\")\n",
    "    lines = open(DATA_DIR , encoding='utf-8').read().strip().split('\\n')\n",
    "    text = [[token for token in cleanText(l.split('\\t')[0])] for l in lines]\n",
    "    \n",
    "    return text"
   ],
   "metadata": {
    "collapsed": false,
    "ExecuteTime": {
     "end_time": "2023-08-26T08:25:35.554424983Z",
     "start_time": "2023-08-26T08:25:35.413297350Z"
    }
   },
   "id": "8656dd01b06aaa87"
  },
  {
   "cell_type": "code",
   "execution_count": 82,
   "outputs": [],
   "source": [
    "def filterPair(sentence):\n",
    "    return len(sentence) < MAX_LENGTH\n",
    "\n",
    "def filterPairs(text):\n",
    "    return [sentence for sentence in text if filterPair(sentence)]"
   ],
   "metadata": {
    "collapsed": false,
    "ExecuteTime": {
     "end_time": "2023-08-26T08:25:35.554534984Z",
     "start_time": "2023-08-26T08:25:35.413463084Z"
    }
   },
   "id": "d76f683a8409d98c"
  },
  {
   "cell_type": "code",
   "execution_count": 83,
   "outputs": [],
   "source": [
    "def vectorizeText(text):\n",
    "    vectorized_text = torch.zeros((len(text), MAX_LENGTH), dtype=int,device=device)\n",
    "    \n",
    "    for i,sentence in enumerate(text):\n",
    "        for j, letter in enumerate(sentence):\n",
    "            if j >= MAX_LENGTH:\n",
    "                break\n",
    "            vectorized_text[i, j] = CHAR2INDEX.get(letter,CHAR2INDEX['none'])\n",
    "    \n",
    "    return vectorized_text"
   ],
   "metadata": {
    "collapsed": false,
    "ExecuteTime": {
     "end_time": "2023-08-26T08:25:35.554645194Z",
     "start_time": "2023-08-26T08:25:35.423876180Z"
    }
   },
   "id": "ded41027ef0c3760"
  },
  {
   "cell_type": "code",
   "execution_count": 84,
   "outputs": [],
   "source": [
    "def devectorizeText(vectorize_cipher):\n",
    "    devectorize_text = []\n",
    "    for word in vectorize_cipher:\n",
    "        devectorize_text.append([INDEX2CHAR[letter.argmax()] for letter in word])\n",
    "\n",
    "    return devectorize_text"
   ],
   "metadata": {
    "collapsed": false,
    "ExecuteTime": {
     "end_time": "2023-08-26T08:25:35.554776356Z",
     "start_time": "2023-08-26T08:25:35.464995881Z"
    }
   },
   "id": "70f2f2e7b2ab7d1f"
  },
  {
   "cell_type": "code",
   "execution_count": 85,
   "outputs": [],
   "source": [
    "def prepareData():\n",
    "    text = readLangs()\n",
    "    print(\"Read %s sentence\" % len(text))\n",
    "    text = filterPairs(text)\n",
    "    print(\"Trimmed to %s sentence\" % len(text))\n",
    "    source, target = caesarCipher(text)\n",
    "    print(\"Done\")\n",
    "    \n",
    "    return source, target"
   ],
   "metadata": {
    "collapsed": false,
    "ExecuteTime": {
     "end_time": "2023-08-26T08:25:35.554890826Z",
     "start_time": "2023-08-26T08:25:35.465234111Z"
    }
   },
   "id": "61ebd6a71132eff"
  },
  {
   "cell_type": "code",
   "execution_count": 86,
   "outputs": [],
   "source": [
    "class CipherModule(nn.Module):\n",
    "    def __init__(self,input_size,hidden_size):\n",
    "        super(CipherModule,self).__init__()\n",
    "        \n",
    "        self.embedding = nn.Embedding(input_size,hidden_size)\n",
    "        self.rnn = nn.RNN(HIDDEN_SIZE,128,batch_first=True)\n",
    "        self.linear = nn.Linear(128,input_size)\n",
    "    \n",
    "    def forward(self,sentence):\n",
    "        embedding = self.embedding(sentence)\n",
    "        output,hidden = self.rnn(embedding)\n",
    "        return self.linear(output)\n",
    "        "
   ],
   "metadata": {
    "collapsed": false,
    "ExecuteTime": {
     "end_time": "2023-08-26T08:25:35.555006624Z",
     "start_time": "2023-08-26T08:25:35.465384270Z"
    }
   },
   "id": "746d50078618bad0"
  },
  {
   "cell_type": "code",
   "execution_count": 87,
   "outputs": [
    {
     "name": "stdout",
     "output_type": "stream",
     "text": [
      "Reading lines...\n",
      "Read 75298 sentence\n",
      "Trimmed to 71491 sentence\n",
      "Done\n"
     ]
    }
   ],
   "source": [
    "source, target = prepareData()"
   ],
   "metadata": {
    "collapsed": false,
    "ExecuteTime": {
     "end_time": "2023-08-26T08:25:37.550073176Z",
     "start_time": "2023-08-26T08:25:35.465553985Z"
    }
   },
   "id": "5b3fbfeee390e073"
  },
  {
   "cell_type": "code",
   "execution_count": 88,
   "outputs": [],
   "source": [
    "X_train,X_test,y_train,y_test = train_test_split(source,target,test_size=0.05,shuffle=False,random_state=RANDOM_STATE)"
   ],
   "metadata": {
    "collapsed": false,
    "ExecuteTime": {
     "end_time": "2023-08-26T08:25:37.611123351Z",
     "start_time": "2023-08-26T08:25:37.562806269Z"
    }
   },
   "id": "f16095b56ab7c2cb"
  },
  {
   "cell_type": "code",
   "execution_count": 89,
   "outputs": [],
   "source": [
    "X_train,y_train = vectorizeText(X_train),vectorizeText(y_train)"
   ],
   "metadata": {
    "collapsed": false,
    "ExecuteTime": {
     "end_time": "2023-08-26T08:26:32.989060171Z",
     "start_time": "2023-08-26T08:25:37.604921980Z"
    }
   },
   "id": "ae1126ebbef71b40"
  },
  {
   "cell_type": "code",
   "execution_count": 90,
   "outputs": [
    {
     "data": {
      "text/plain": "(tensor([ 9, 17,  1, 29,  0,  0,  0,  0,  0,  0,  0,  0,  0,  0,  0,  0,  0,  0,\n          0,  0,  0,  0,  0,  0,  0,  0,  0,  0,  0,  0,  0,  0,  0,  0,  0,  0,\n          0,  0,  0,  0,  0,  0,  0,  0,  0,  0,  0,  0,  0,  0],\n        device='cuda:0'),\n tensor([ 7, 15, 30, 27,  0,  0,  0,  0,  0,  0,  0,  0,  0,  0,  0,  0,  0,  0,\n          0,  0,  0,  0,  0,  0,  0,  0,  0,  0,  0,  0,  0,  0,  0,  0,  0,  0,\n          0,  0,  0,  0,  0,  0,  0,  0,  0,  0,  0,  0,  0,  0],\n        device='cuda:0'))"
     },
     "execution_count": 90,
     "metadata": {},
     "output_type": "execute_result"
    }
   ],
   "source": [
    "X_train[0],y_train[0]"
   ],
   "metadata": {
    "collapsed": false,
    "ExecuteTime": {
     "end_time": "2023-08-26T08:26:33.033368204Z",
     "start_time": "2023-08-26T08:26:33.029043336Z"
    }
   },
   "id": "3587ad3ce2e576de"
  },
  {
   "cell_type": "code",
   "execution_count": 91,
   "outputs": [],
   "source": [
    "model = CipherModule(len(INDEX2CHAR),HIDDEN_SIZE).to(device)\n",
    "criterion = nn.CrossEntropyLoss()\n",
    "optimizer = torch.optim.Adam(model.parameters(),lr = 0.05)"
   ],
   "metadata": {
    "collapsed": false,
    "ExecuteTime": {
     "end_time": "2023-08-26T08:26:33.033697646Z",
     "start_time": "2023-08-26T08:26:33.029379414Z"
    }
   },
   "id": "aee0a3338f4149"
  },
  {
   "cell_type": "code",
   "execution_count": 92,
   "outputs": [],
   "source": [
    "def train(model,optimizer,criterion,source,target,epochs,batch_size=1000,print_every=10):\n",
    "\n",
    "    for epoch in range(epochs):\n",
    "        start = time.time()\n",
    "        train_loss = 0.\n",
    "        train_passed = 0\n",
    "        \n",
    "        model.train()\n",
    "        for i in range(0,len(source),batch_size):\n",
    "            optimizer.zero_grad()\n",
    "            output = model.forward(source[i:i+batch_size])\n",
    "            output = output.view(-1, len(INDEX2CHAR))\n",
    "            loss = criterion(output,target[i:i+batch_size].flatten())\n",
    "            \n",
    "            loss.backward()\n",
    "            optimizer.step()\n",
    "            \n",
    "            train_loss +=loss.item()\n",
    "            train_passed += 1\n",
    "\n",
    "        if epoch % print_every == 0:\n",
    "            print(\"Epoch {}. Time: {:.3f}, Loss: {:.3f}\".format(epoch, time.time() - start, train_loss / train_passed))\n",
    "            "
   ],
   "metadata": {
    "collapsed": false,
    "ExecuteTime": {
     "end_time": "2023-08-26T08:26:33.033943628Z",
     "start_time": "2023-08-26T08:26:33.029575599Z"
    }
   },
   "id": "bc2b1fffc5f289d6"
  },
  {
   "cell_type": "code",
   "execution_count": 93,
   "outputs": [
    {
     "name": "stdout",
     "output_type": "stream",
     "text": [
      "Epoch 0. Time: 0.680, Loss: 0.326\n",
      "Epoch 10. Time: 0.790, Loss: 0.000\n",
      "Epoch 20. Time: 0.771, Loss: 0.000\n",
      "Epoch 30. Time: 0.742, Loss: 0.000\n",
      "Epoch 40. Time: 0.741, Loss: 0.000\n",
      "Epoch 50. Time: 0.744, Loss: 0.000\n",
      "Epoch 60. Time: 0.735, Loss: 0.000\n",
      "Epoch 70. Time: 0.731, Loss: 0.000\n",
      "Epoch 80. Time: 0.700, Loss: 0.000\n",
      "Epoch 90. Time: 0.735, Loss: 0.000\n"
     ]
    }
   ],
   "source": [
    "train(model,optimizer,criterion,X_train,y_train,100)"
   ],
   "metadata": {
    "collapsed": false,
    "ExecuteTime": {
     "end_time": "2023-08-26T08:27:47.957067074Z",
     "start_time": "2023-08-26T08:26:33.029779256Z"
    }
   },
   "id": "588936d995279fb4"
  },
  {
   "cell_type": "code",
   "execution_count": 94,
   "outputs": [],
   "source": [
    "def evaluate(model, cipher_text):\n",
    "    model.eval()\n",
    "    vectorize_cipher = vectorizeText(cipher_text)\n",
    "    vectorize_cipher = model(vectorize_cipher)\n",
    "    devectorize_cipher = devectorizeText(vectorize_cipher)\n",
    "    \n",
    "    return [phrase[:phrase.index('none')] if 'none' in phrase else phrase for phrase in devectorize_cipher]"
   ],
   "metadata": {
    "collapsed": false,
    "ExecuteTime": {
     "end_time": "2023-08-26T08:27:47.964002322Z",
     "start_time": "2023-08-26T08:27:47.958940187Z"
    }
   },
   "id": "540e048478cd5408"
  },
  {
   "cell_type": "code",
   "execution_count": 95,
   "outputs": [],
   "source": [
    "def evaluateRandomly(model,n=10):\n",
    "    for i in range(n):\n",
    "        sentence = [random.choice(source)]\n",
    "        print('>', [''.join(sent) for sent in sentence][0])\n",
    "        output_letters = evaluate(model,sentence)\n",
    "        output_sentence = [''.join(sentence) for sentence in output_letters]\n",
    "        print('<', output_sentence[0])\n",
    "        print('')"
   ],
   "metadata": {
    "collapsed": false,
    "ExecuteTime": {
     "end_time": "2023-08-26T08:27:48.005389334Z",
     "start_time": "2023-08-26T08:27:47.970588845Z"
    }
   },
   "id": "b83fc167bca801ae"
  },
  {
   "cell_type": "code",
   "execution_count": 96,
   "outputs": [
    {
     "name": "stdout",
     "output_type": "stream",
     "text": [
      "> ygtga.qwavjgtga \n",
      "< were you there ?\n",
      "\n",
      "> kavjkpmakaurgcmahtgpejadgvvgtavjcpavqoafqgua!\n",
      "< i think i speak french better than tom does .\n",
      "\n",
      "> kafqpavajcxgacadcvjkpiauwkva!\n",
      "< i don t have a bathing suit .\n",
      "\n",
      "> ngvaogajcxgacayqtfaykvjavqoa!\n",
      "< let me have a word with tom .\n",
      "\n",
      "> jgauavjgadq.aygaurqmgacdqwvavjgaqvjgtafc.a!\n",
      "< he s the boy we spoke about the other day .\n",
      "\n",
      "> vjgalcrcpgugageqpqo.aitgyad.ancuva.gcta!\n",
      "< the japanese economy grew by last year .\n",
      "\n",
      "> ygatgarjqvqitcrjgtua!\n",
      "< we re photographers .\n",
      "\n",
      "> .qwapgctn.adtqmgao.alcya!\n",
      "< you nearly broke my jaw .\n",
      "\n",
      "> vjgahkujgtogpaiqvawradghqtgafcypa!\n",
      "< the fishermen got up before dawn .\n",
      "\n",
      "> vjgtgauapqvjkpiatqocpvkeadgvyggpawua!\n",
      "< there s nothing romantic between us .\n"
     ]
    }
   ],
   "source": [
    "evaluateRandomly(model)"
   ],
   "metadata": {
    "collapsed": false,
    "ExecuteTime": {
     "end_time": "2023-08-26T08:27:48.047930428Z",
     "start_time": "2023-08-26T08:27:47.984092177Z"
    }
   },
   "id": "41ce68eaf9375da8"
  },
  {
   "cell_type": "code",
   "execution_count": 96,
   "outputs": [],
   "source": [],
   "metadata": {
    "collapsed": false,
    "ExecuteTime": {
     "end_time": "2023-08-26T08:27:48.085638960Z",
     "start_time": "2023-08-26T08:27:48.036195375Z"
    }
   },
   "id": "74be5ff26a328a93"
  },
  {
   "cell_type": "code",
   "execution_count": 104,
   "outputs": [],
   "source": [
    "def calculate_score(model,source,target):\n",
    "    bleu_scores = []\n",
    "    reference = target\n",
    "    for i in range(len(source)):\n",
    "        candidate =  evaluate(model,[source[i]])[0] \n",
    "        \n",
    "        score = sentence_bleu(reference,candidate)\n",
    "        bleu_scores.append(score)\n",
    "    \n",
    "    return (sum(bleu_scores)/len(source))*100\n",
    "        "
   ],
   "metadata": {
    "collapsed": false,
    "ExecuteTime": {
     "end_time": "2023-08-26T08:52:59.965787557Z",
     "start_time": "2023-08-26T08:52:59.952089500Z"
    }
   },
   "id": "efa7de5e17560dd6"
  },
  {
   "cell_type": "code",
   "execution_count": 98,
   "outputs": [
    {
     "name": "stdout",
     "output_type": "stream",
     "text": [
      "BLEU score: 100 %\n"
     ]
    }
   ],
   "source": [
    "print('BLEU score: {} %'.format(round(calculate_score(model,X_test,y_test)),2))"
   ],
   "metadata": {
    "collapsed": false,
    "ExecuteTime": {
     "end_time": "2023-08-26T08:40:49.657285129Z",
     "start_time": "2023-08-26T08:27:48.085142169Z"
    }
   },
   "id": "9add49522209bcff"
  }
 ],
 "metadata": {
  "kernelspec": {
   "display_name": "Python 3",
   "language": "python",
   "name": "python3"
  },
  "language_info": {
   "codemirror_mode": {
    "name": "ipython",
    "version": 2
   },
   "file_extension": ".py",
   "mimetype": "text/x-python",
   "name": "python",
   "nbconvert_exporter": "python",
   "pygments_lexer": "ipython2",
   "version": "2.7.6"
  }
 },
 "nbformat": 4,
 "nbformat_minor": 5
}
