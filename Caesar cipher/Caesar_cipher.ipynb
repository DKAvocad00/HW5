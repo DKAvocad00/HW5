{
 "cells": [
  {
   "cell_type": "markdown",
   "source": [
    "## A SIMPLE CAESAR CIPHER RNN MODEL"
   ],
   "metadata": {
    "collapsed": false
   },
   "id": "fff2c6b96d1a5254"
  },
  {
   "cell_type": "code",
   "execution_count": 1,
   "id": "initial_id",
   "metadata": {
    "collapsed": true,
    "ExecuteTime": {
     "end_time": "2023-08-26T17:38:06.010598827Z",
     "start_time": "2023-08-26T17:38:03.856925130Z"
    }
   },
   "outputs": [
    {
     "name": "stdout",
     "output_type": "stream",
     "text": [
      "cuda\n"
     ]
    }
   ],
   "source": [
    "#file preprocessing\n",
    "from io import open\n",
    "import unicodedata\n",
    "import re\n",
    "from sklearn.model_selection import train_test_split\n",
    "\n",
    "#creating model\n",
    "import random\n",
    "import torch\n",
    "import torch.nn as nn\n",
    "import copy\n",
    "import time\n",
    "\n",
    "#score calculating\n",
    "from nltk.translate.bleu_score import sentence_bleu\n",
    "\n",
    "#warnings\n",
    "import warnings\n",
    "\n",
    "#default settings\n",
    "warnings.filterwarnings(\"ignore\")\n",
    "%matplotlib inline\n",
    "device = torch.device(\"cuda\" if torch.cuda.is_available() else \"cpu\")\n",
    "print(device)"
   ]
  },
  {
   "cell_type": "code",
   "execution_count": 2,
   "outputs": [],
   "source": [
    "DATA_DIR = 'data/eng-nld/eng-nld.txt'\n",
    "RANDOM_STATE = 39\n",
    "HIDDEN_SIZE = 40\n",
    "MAX_LENGTH = 50\n",
    "CHARLIST = list('abcdefghijklmnopqrstuvwxyz.?! ') \n",
    "INDEX2CHAR =['none'] + [c for c in CHARLIST]\n",
    "CHAR2INDEX = {w: i for i, w in enumerate(INDEX2CHAR)}"
   ],
   "metadata": {
    "collapsed": false,
    "ExecuteTime": {
     "end_time": "2023-08-26T17:38:06.016983924Z",
     "start_time": "2023-08-26T17:38:05.977225010Z"
    }
   },
   "id": "bdebb74801058a59"
  },
  {
   "cell_type": "markdown",
   "source": [
    "# Data preprocessing"
   ],
   "metadata": {
    "collapsed": false
   },
   "id": "10d763fb0dd6684e"
  },
  {
   "cell_type": "code",
   "execution_count": 3,
   "outputs": [],
   "source": [
    "# Creating cipher text\n",
    "\n",
    "def caesarCipher(text, k = 6):\n",
    "    cipher_text = copy.deepcopy(text)\n",
    "    for i, sentence in enumerate(cipher_text):\n",
    "        for j, letter in enumerate(sentence):\n",
    "            cipher_text[i][j] = INDEX2CHAR[(CHAR2INDEX.get(letter,CHAR2INDEX['none']) + k) % len(INDEX2CHAR)]\n",
    "\n",
    "    return cipher_text, text"
   ],
   "metadata": {
    "collapsed": false,
    "ExecuteTime": {
     "end_time": "2023-08-26T17:38:06.018330912Z",
     "start_time": "2023-08-26T17:38:05.977519537Z"
    }
   },
   "id": "f4e9b3b1d6f5daa5"
  },
  {
   "cell_type": "code",
   "execution_count": 4,
   "outputs": [],
   "source": [
    "# Cleaning text\n",
    "\n",
    "def unicodeToAscii(sentence):\n",
    "    return ''.join(\n",
    "        c for c in unicodedata.normalize('NFD', sentence)\n",
    "        if unicodedata.category(c) != 'Mn'\n",
    "    )\n",
    "\n",
    "def cleanText(sentence):\n",
    "    sentence = unicodeToAscii(sentence.lower().strip()) \n",
    "    sentence = re.sub(r\"([.!?])\", r\" \\1\", sentence)\n",
    "    sentence = re.sub(r\"[^a-zA-Z.!?]+\", r\" \", sentence)\n",
    "    return sentence"
   ],
   "metadata": {
    "collapsed": false,
    "ExecuteTime": {
     "end_time": "2023-08-26T17:38:06.020046739Z",
     "start_time": "2023-08-26T17:38:05.996057768Z"
    }
   },
   "id": "d29b40f7c71db0d3"
  },
  {
   "cell_type": "code",
   "execution_count": 5,
   "outputs": [],
   "source": [
    "# Read and clean data from txt\n",
    "\n",
    "def readLangs():\n",
    "    print(\"Reading lines...\")\n",
    "    lines = open(DATA_DIR , encoding='utf-8').read().strip().split('\\n')\n",
    "    text = [[token for token in cleanText(l.split('\\t')[0])] for l in lines]\n",
    "    \n",
    "    return text"
   ],
   "metadata": {
    "collapsed": false,
    "ExecuteTime": {
     "end_time": "2023-08-26T17:38:06.021190555Z",
     "start_time": "2023-08-26T17:38:06.003798514Z"
    }
   },
   "id": "8656dd01b06aaa87"
  },
  {
   "cell_type": "code",
   "execution_count": 6,
   "outputs": [],
   "source": [
    "# Filter text with MAX_LENGTH\n",
    "\n",
    "def filterPair(sentence):\n",
    "    return len(sentence) < MAX_LENGTH\n",
    "\n",
    "def filterPairs(text):\n",
    "    return [sentence for sentence in text if filterPair(sentence)]"
   ],
   "metadata": {
    "collapsed": false,
    "ExecuteTime": {
     "end_time": "2023-08-26T17:38:06.030397440Z",
     "start_time": "2023-08-26T17:38:06.010816317Z"
    }
   },
   "id": "d76f683a8409d98c"
  },
  {
   "cell_type": "code",
   "execution_count": 7,
   "outputs": [],
   "source": [
    "# Vectorize text\n",
    "\n",
    "def vectorizeText(text):\n",
    "    vectorized_text = torch.zeros((len(text), MAX_LENGTH), dtype=int,device=device)\n",
    "    \n",
    "    for i,sentence in enumerate(text):\n",
    "        for j, letter in enumerate(sentence):\n",
    "            if j >= MAX_LENGTH:\n",
    "                break\n",
    "            vectorized_text[i, j] = CHAR2INDEX.get(letter,CHAR2INDEX['none'])\n",
    "    \n",
    "    return vectorized_text"
   ],
   "metadata": {
    "collapsed": false,
    "ExecuteTime": {
     "end_time": "2023-08-26T17:38:06.070561581Z",
     "start_time": "2023-08-26T17:38:06.021013573Z"
    }
   },
   "id": "ded41027ef0c3760"
  },
  {
   "cell_type": "code",
   "execution_count": 8,
   "outputs": [],
   "source": [
    "# Devectorize decoded text \n",
    "\n",
    "def devectorizeText(vectorize_cipher):\n",
    "    devectorize_text = []\n",
    "    for word in vectorize_cipher:\n",
    "        devectorize_text.append([INDEX2CHAR[letter.argmax()] for letter in word])\n",
    "\n",
    "    return devectorize_text"
   ],
   "metadata": {
    "collapsed": false,
    "ExecuteTime": {
     "end_time": "2023-08-26T17:38:06.071088335Z",
     "start_time": "2023-08-26T17:38:06.065362345Z"
    }
   },
   "id": "70f2f2e7b2ab7d1f"
  },
  {
   "cell_type": "code",
   "execution_count": 9,
   "outputs": [],
   "source": [
    "# Main function for preparing data\n",
    "\n",
    "def prepareData():\n",
    "    text = readLangs()\n",
    "    print(\"Read %s sentence\" % len(text))\n",
    "    text = filterPairs(text)\n",
    "    print(\"Trimmed to %s sentence\" % len(text))\n",
    "    source, target = caesarCipher(text)\n",
    "    print(\"Done\")\n",
    "    \n",
    "    return source, target"
   ],
   "metadata": {
    "collapsed": false,
    "ExecuteTime": {
     "end_time": "2023-08-26T17:38:06.071417854Z",
     "start_time": "2023-08-26T17:38:06.065801656Z"
    }
   },
   "id": "61ebd6a71132eff"
  },
  {
   "cell_type": "markdown",
   "source": [
    "# Creating model"
   ],
   "metadata": {
    "collapsed": false
   },
   "id": "2ecb20462d0ac1d3"
  },
  {
   "cell_type": "code",
   "execution_count": 10,
   "outputs": [],
   "source": [
    "# Simple RNN model with rnn cell\n",
    "\n",
    "class CipherModule(nn.Module):\n",
    "    def __init__(self,input_size,hidden_size):\n",
    "        super(CipherModule,self).__init__()\n",
    "        \n",
    "        self.embedding = nn.Embedding(input_size,hidden_size)\n",
    "        self.rnn = nn.RNN(HIDDEN_SIZE,128,batch_first=True)\n",
    "        self.linear = nn.Linear(128,input_size)\n",
    "    \n",
    "    def forward(self,sentence):\n",
    "        embedding = self.embedding(sentence)\n",
    "        output,hidden = self.rnn(embedding)\n",
    "        return self.linear(output)\n",
    "        "
   ],
   "metadata": {
    "collapsed": false,
    "ExecuteTime": {
     "end_time": "2023-08-26T17:38:06.071672361Z",
     "start_time": "2023-08-26T17:38:06.066102469Z"
    }
   },
   "id": "746d50078618bad0"
  },
  {
   "cell_type": "code",
   "execution_count": 11,
   "outputs": [
    {
     "name": "stdout",
     "output_type": "stream",
     "text": [
      "Reading lines...\n",
      "Read 75298 sentence\n",
      "Trimmed to 71491 sentence\n",
      "Done\n"
     ]
    }
   ],
   "source": [
    "source, target = prepareData()"
   ],
   "metadata": {
    "collapsed": false,
    "ExecuteTime": {
     "end_time": "2023-08-26T17:38:08.166712765Z",
     "start_time": "2023-08-26T17:38:06.066444070Z"
    }
   },
   "id": "5b3fbfeee390e073"
  },
  {
   "cell_type": "code",
   "execution_count": 12,
   "outputs": [],
   "source": [
    "# train test spliting\n",
    "\n",
    "X_train,X_test,y_train,y_test = train_test_split(source,target,test_size=0.05,shuffle=False,random_state=RANDOM_STATE)"
   ],
   "metadata": {
    "collapsed": false,
    "ExecuteTime": {
     "end_time": "2023-08-26T17:38:08.224739127Z",
     "start_time": "2023-08-26T17:38:08.178330483Z"
    }
   },
   "id": "f16095b56ab7c2cb"
  },
  {
   "cell_type": "code",
   "execution_count": 13,
   "outputs": [],
   "source": [
    "X_train,y_train = vectorizeText(X_train),vectorizeText(y_train)"
   ],
   "metadata": {
    "collapsed": false,
    "ExecuteTime": {
     "end_time": "2023-08-26T17:40:13.199472718Z",
     "start_time": "2023-08-26T17:38:08.221443315Z"
    }
   },
   "id": "ae1126ebbef71b40"
  },
  {
   "cell_type": "code",
   "execution_count": 14,
   "outputs": [
    {
     "data": {
      "text/plain": "(tensor([13, 21,  5,  2,  0,  0,  0,  0,  0,  0,  0,  0,  0,  0,  0,  0,  0,  0,\n          0,  0,  0,  0,  0,  0,  0,  0,  0,  0,  0,  0,  0,  0,  0,  0,  0,  0,\n          0,  0,  0,  0,  0,  0,  0,  0,  0,  0,  0,  0,  0,  0],\n        device='cuda:0'),\n tensor([ 7, 15, 30, 27,  0,  0,  0,  0,  0,  0,  0,  0,  0,  0,  0,  0,  0,  0,\n          0,  0,  0,  0,  0,  0,  0,  0,  0,  0,  0,  0,  0,  0,  0,  0,  0,  0,\n          0,  0,  0,  0,  0,  0,  0,  0,  0,  0,  0,  0,  0,  0],\n        device='cuda:0'))"
     },
     "execution_count": 14,
     "metadata": {},
     "output_type": "execute_result"
    }
   ],
   "source": [
    "X_train[0],y_train[0]"
   ],
   "metadata": {
    "collapsed": false,
    "ExecuteTime": {
     "end_time": "2023-08-26T17:40:13.252748293Z",
     "start_time": "2023-08-26T17:40:13.245350836Z"
    }
   },
   "id": "3587ad3ce2e576de"
  },
  {
   "cell_type": "code",
   "execution_count": 15,
   "outputs": [],
   "source": [
    "model = CipherModule(len(INDEX2CHAR),HIDDEN_SIZE).to(device)\n",
    "criterion = nn.CrossEntropyLoss()\n",
    "optimizer = torch.optim.Adam(model.parameters(),lr = 0.05)"
   ],
   "metadata": {
    "collapsed": false,
    "ExecuteTime": {
     "end_time": "2023-08-26T17:40:13.253568525Z",
     "start_time": "2023-08-26T17:40:13.246258023Z"
    }
   },
   "id": "aee0a3338f4149"
  },
  {
   "cell_type": "markdown",
   "source": [
    "# Training model"
   ],
   "metadata": {
    "collapsed": false
   },
   "id": "953d428cc0d0821c"
  },
  {
   "cell_type": "code",
   "execution_count": 16,
   "outputs": [],
   "source": [
    "def train(model,optimizer,criterion,source,target,epochs,batch_size=1000,print_every=10):\n",
    "\n",
    "    for epoch in range(epochs):\n",
    "        start = time.time()\n",
    "        train_loss = 0.\n",
    "        train_passed = 0\n",
    "        \n",
    "        model.train()\n",
    "        for i in range(0,len(source),batch_size):\n",
    "            optimizer.zero_grad()\n",
    "            output = model.forward(source[i:i+batch_size])\n",
    "            output = output.view(-1, len(INDEX2CHAR))\n",
    "            loss = criterion(output,target[i:i+batch_size].flatten())\n",
    "            \n",
    "            loss.backward()\n",
    "            optimizer.step()\n",
    "            \n",
    "            train_loss +=loss.item()\n",
    "            train_passed += 1\n",
    "\n",
    "        if epoch % print_every == 0:\n",
    "            print(\"Epoch {}. Time: {:.3f}, Loss: {:.3f}\".format(epoch, time.time() - start, train_loss / train_passed))\n",
    "            "
   ],
   "metadata": {
    "collapsed": false,
    "ExecuteTime": {
     "end_time": "2023-08-26T17:40:13.254296216Z",
     "start_time": "2023-08-26T17:40:13.246994653Z"
    }
   },
   "id": "bc2b1fffc5f289d6"
  },
  {
   "cell_type": "code",
   "execution_count": 17,
   "outputs": [
    {
     "name": "stdout",
     "output_type": "stream",
     "text": [
      "Epoch 0. Time: 1.032, Loss: 0.191\n",
      "Epoch 10. Time: 0.958, Loss: 0.000\n",
      "Epoch 20. Time: 0.868, Loss: 0.000\n",
      "Epoch 30. Time: 0.710, Loss: 0.000\n",
      "Epoch 40. Time: 0.740, Loss: 0.000\n",
      "Epoch 50. Time: 1.161, Loss: 0.001\n",
      "Epoch 60. Time: 1.220, Loss: 0.001\n",
      "Epoch 70. Time: 1.114, Loss: 0.000\n",
      "Epoch 80. Time: 1.126, Loss: 0.000\n",
      "Epoch 90. Time: 1.291, Loss: 0.000\n"
     ]
    }
   ],
   "source": [
    "train(model,optimizer,criterion,X_train,y_train,100)"
   ],
   "metadata": {
    "collapsed": false,
    "ExecuteTime": {
     "end_time": "2023-08-26T17:41:54.610709314Z",
     "start_time": "2023-08-26T17:40:13.249821536Z"
    }
   },
   "id": "588936d995279fb4"
  },
  {
   "cell_type": "markdown",
   "source": [
    "# Testing model"
   ],
   "metadata": {
    "collapsed": false
   },
   "id": "62d37dd180c68eda"
  },
  {
   "cell_type": "code",
   "execution_count": 18,
   "outputs": [],
   "source": [
    "# Translate from caesar cipher to english\n",
    "\n",
    "def evaluate(model, cipher_text):\n",
    "    model.eval()\n",
    "    vectorize_cipher = vectorizeText(cipher_text)\n",
    "    vectorize_cipher = model(vectorize_cipher)\n",
    "    devectorize_cipher = devectorizeText(vectorize_cipher)\n",
    "    \n",
    "    return [phrase[:phrase.index('none')] if 'none' in phrase else phrase for phrase in devectorize_cipher]"
   ],
   "metadata": {
    "collapsed": false,
    "ExecuteTime": {
     "end_time": "2023-08-26T17:41:54.623312343Z",
     "start_time": "2023-08-26T17:41:54.614039689Z"
    }
   },
   "id": "540e048478cd5408"
  },
  {
   "cell_type": "code",
   "execution_count": 19,
   "outputs": [],
   "source": [
    "# Random translator\n",
    "\n",
    "def evaluateRandomly(model,n=10):\n",
    "    for i in range(n):\n",
    "        sentence = [random.choice(source)]\n",
    "        print('>', [''.join(sent) for sent in sentence][0])\n",
    "        output_letters = evaluate(model,sentence)\n",
    "        output_sentence = [''.join(sentence) for sentence in output_letters]\n",
    "        print('<', output_sentence[0])\n",
    "        print('')"
   ],
   "metadata": {
    "collapsed": false,
    "ExecuteTime": {
     "end_time": "2023-08-26T17:41:54.642950897Z",
     "start_time": "2023-08-26T17:41:54.620575001Z"
    }
   },
   "id": "b83fc167bca801ae"
  },
  {
   "cell_type": "code",
   "execution_count": 20,
   "outputs": [
    {
     "name": "stdout",
     "output_type": "stream",
     "text": [
      "> qkkveznkesutknoneeb\n",
      "< keep the money .\n",
      "\n",
      "> oeng?kegeyzolleynu.rjkxeb\n",
      "< i have a stiff shoulder .\n",
      "\n",
      "> oyeozegtnonee!gxskxeotyojkec\n",
      "< is it any warmer inside ?\n",
      "\n",
      "> nkei.xkjesnoneeorrtkyyeb\n",
      "< he cured my illness .\n",
      "\n",
      "> zuse!gyeixganoneeghu.zenoneu.eb\n",
      "< tom was crazy about you .\n",
      "\n",
      "> juenoneu.ejxotqegriunurek?kxnoneejgnoneec\n",
      "< do you drink alcohol every day ?\n",
      "\n",
      "> gxkenoneu.eykrrotmeznkykergsvyec\n",
      "< are you selling these lamps ?\n",
      "\n",
      "> noneu.eigtexktzegehugzehnoneeznkenu.xeb\n",
      "< you can rent a boat by the hour .\n",
      "\n",
      "> tuezngtqenoneu.eb\n",
      "< no thank you .\n",
      "\n",
      "> oeng?ktezeju!trugjkjeznkelorkenonekzeb\n",
      "< i haven t downloaded the file yet .\n"
     ]
    }
   ],
   "source": [
    "evaluateRandomly(model)"
   ],
   "metadata": {
    "collapsed": false,
    "ExecuteTime": {
     "end_time": "2023-08-26T17:41:54.737946485Z",
     "start_time": "2023-08-26T17:41:54.633987995Z"
    }
   },
   "id": "41ce68eaf9375da8"
  },
  {
   "cell_type": "markdown",
   "source": [
    "# Calculating score"
   ],
   "metadata": {
    "collapsed": false
   },
   "id": "6483f17acbc6770a"
  },
  {
   "cell_type": "code",
   "execution_count": 21,
   "outputs": [],
   "source": [
    "# Calculating bleu score\n",
    "\n",
    "def calculate_score(model,source,target):\n",
    "    bleu_scores = []\n",
    "    reference = target\n",
    "    for i in range(len(source)):\n",
    "        candidate =  evaluate(model,[source[i]])[0] \n",
    "        \n",
    "        score = sentence_bleu(reference,candidate)\n",
    "        bleu_scores.append(score)\n",
    "    \n",
    "    return (sum(bleu_scores)/len(source))*100\n",
    "        "
   ],
   "metadata": {
    "collapsed": false,
    "ExecuteTime": {
     "end_time": "2023-08-26T17:41:54.750782788Z",
     "start_time": "2023-08-26T17:41:54.739529398Z"
    }
   },
   "id": "efa7de5e17560dd6"
  },
  {
   "cell_type": "markdown",
   "source": [
    "# Results"
   ],
   "metadata": {
    "collapsed": false
   },
   "id": "4be3a509e0af1a6e"
  },
  {
   "cell_type": "code",
   "execution_count": 22,
   "outputs": [
    {
     "name": "stdout",
     "output_type": "stream",
     "text": [
      "BLEU score: 100 %\n"
     ]
    }
   ],
   "source": [
    "print('BLEU score: {} %'.format(round(calculate_score(model,X_test,y_test)),2))"
   ],
   "metadata": {
    "collapsed": false,
    "ExecuteTime": {
     "end_time": "2023-08-26T17:55:10.417374174Z",
     "start_time": "2023-08-26T17:41:54.744254460Z"
    }
   },
   "id": "9add49522209bcff"
  }
 ],
 "metadata": {
  "kernelspec": {
   "display_name": "Python 3",
   "language": "python",
   "name": "python3"
  },
  "language_info": {
   "codemirror_mode": {
    "name": "ipython",
    "version": 2
   },
   "file_extension": ".py",
   "mimetype": "text/x-python",
   "name": "python",
   "nbconvert_exporter": "python",
   "pygments_lexer": "ipython2",
   "version": "2.7.6"
  }
 },
 "nbformat": 4,
 "nbformat_minor": 5
}
